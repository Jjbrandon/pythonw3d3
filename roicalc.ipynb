{
 "cells": [
  {
   "cell_type": "code",
   "execution_count": null,
   "metadata": {},
   "outputs": [],
   "source": [
    "import json"
   ]
  },
  {
   "cell_type": "raw",
   "metadata": {},
   "source": []
  },
  {
   "cell_type": "code",
   "execution_count": 62,
   "metadata": {},
   "outputs": [
    {
     "name": "stdout",
     "output_type": "stream",
     "text": [
      "Your projected annual return on investment is 24.0%\n"
     ]
    }
   ],
   "source": [
    "from IPython.display import clear_output\n",
    "class RoiCalc():\n",
    "    def __init__(self):\n",
    "        self.total_income = ''\n",
    "        self.total_expenses = ''\n",
    "        self.cash_flow = ''\n",
    "        self.income()\n",
    "    def income(self):\n",
    "        print(\"Please enter in digits only! If you think any of these will have no cost, enter 0!\")\n",
    "        try:\n",
    "            rental = int(input(\"Please enter your expected monthly income from rent: $\"))\n",
    "            clear_output()\n",
    "        except ValueError:\n",
    "            print(\"Error! Please enter in digits only!\")\n",
    "        laundry = int(input(\"Please enter your expected monthly income from laundry: $\"))\n",
    "        clear_output()\n",
    "        storage = int(input(\"Please enter your expected monthly income from storage: $\"))\n",
    "        clear_output()\n",
    "        misc = int(input(\"Please enter your expected monthly income from anything else: $\"))\n",
    "        clear_output()\n",
    "        self.total_income = rental + laundry + storage + misc\n",
    "        print(f\"Your total expected income is {self.total_income}, if that is correct, enter 'yes', if not, enter 'redo' to start over!\")\n",
    "        response = input().lower()\n",
    "        if response == 'yes':\n",
    "            self.get_expenses()\n",
    "        else:\n",
    "            self.income()\n",
    "            \n",
    "    def get_expenses(self):\n",
    "        tax = int(input(\"Please enter your expected monthly tax expense: $\"))\n",
    "        clear_output()\n",
    "        insurance = int(input(\"Please enter your expected monthly insurance expense: $\"))\n",
    "        clear_output()\n",
    "        utility = int(input(\"Please enter your expected monthly utility expense: $\"))\n",
    "        clear_output()\n",
    "        hoa = int(input(\"Please enter your expected monthly hoa payment: $\"))\n",
    "        clear_output()\n",
    "        lawn_care = int(input(\"Please enter your expected monthly lawn care costs : $\"))\n",
    "        clear_output()\n",
    "        vacancy = int(input(\"Please enter your expected monthly vacancy savings payment: $\"))\n",
    "        clear_output()\n",
    "        repairs = int(input(\"Please enter your expected monthly repairs fund: $\"))\n",
    "        clear_output()\n",
    "        capex = int(input(\"Please enter your expected monthly capital expense savings payment: $\"))\n",
    "        clear_output()\n",
    "        prop_management = int(input(\"Please enter your expected monthly property management payment for this property: $\"))\n",
    "        clear_output()\n",
    "        mortgage = int(input(\"Please enter your expected monthly mortgage payment: $\"))\n",
    "        clear_output()\n",
    "        self.total_expenses = tax + insurance + utility + hoa + lawn_care + vacancy + repairs + capex + prop_management + mortgage\n",
    "        print(f\"Your total expected expenditures is {self.total_expenses}, if that is correct, enter 'yes', if not, enter 'redo' to start over!\")\n",
    "        response = input().lower()\n",
    "        if response == 'yes':\n",
    "            clear_output()\n",
    "            self.get_cash_flow()\n",
    "        else:\n",
    "            clear_output()\n",
    "            self.get_expenses()\n",
    "        \n",
    "    def get_cash_flow(self):\n",
    "        self.cash_flow = int(self.total_income) - int(self.total_expenses)\n",
    "        print(f\"Your monthly cash flow is ${self.cash_flow}\")\n",
    "        self.get_roi()\n",
    "        \n",
    "    def get_roi(self):\n",
    "        annual_cashflow = (float(self.cash_flow) * 12)\n",
    "        downpayment = int(input(\"Please enter your anticipated downpayment for this property: $\"))\n",
    "        clear_output()\n",
    "        closing_costs = int(input(\"Please enter your anticipated closing costs: $\"))\n",
    "        clear_output()\n",
    "        rehab = int(input(\"Please enter anticipated rehab costs for this property: $\"))\n",
    "        clear_output()\n",
    "        misc = int(input(\"Please enter any other anticipated costs: $\"))\n",
    "        clear_output()\n",
    "        initial_investment = (downpayment + closing_costs + rehab + misc)\n",
    "        print(f\"Your start-up cost is ${initial_investment}, if that is correct, enter 'yes' to continue, otherwise enter 'redo' to start over!\")\n",
    "        response = input().lower()\n",
    "        if response == 'yes':\n",
    "            roi = (annual_cashflow / initial_investment) * 100\n",
    "            clear_output()\n",
    "            print(f\"Your projected annual return on investment is {roi}%\")\n",
    "        else:\n",
    "            clear_output()\n",
    "            self.get_roi()\n",
    "            \n",
    "new = RoiCalc()\n",
    "        \n",
    "    "
   ]
  },
  {
   "cell_type": "code",
   "execution_count": null,
   "metadata": {},
   "outputs": [],
   "source": []
  }
 ],
 "metadata": {
  "kernelspec": {
   "display_name": "Python 3",
   "language": "python",
   "name": "python3"
  },
  "language_info": {
   "codemirror_mode": {
    "name": "ipython",
    "version": 3
   },
   "file_extension": ".py",
   "mimetype": "text/x-python",
   "name": "python",
   "nbconvert_exporter": "python",
   "pygments_lexer": "ipython3",
   "version": "3.8.8"
  }
 },
 "nbformat": 4,
 "nbformat_minor": 2
}
